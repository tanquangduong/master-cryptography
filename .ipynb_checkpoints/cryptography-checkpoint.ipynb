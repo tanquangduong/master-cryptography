{
 "cells": [
  {
   "cell_type": "markdown",
   "id": "f136052a",
   "metadata": {},
   "source": [
    "# Cryptography"
   ]
  },
  {
   "cell_type": "markdown",
   "id": "b8d602b3",
   "metadata": {},
   "source": [
    "## 1. Substitution Ciphers"
   ]
  },
  {
   "cell_type": "markdown",
   "id": "8839de3a",
   "metadata": {},
   "source": [
    "### Caesar Cipher"
   ]
  },
  {
   "cell_type": "code",
   "execution_count": 1,
   "id": "77b7fe92",
   "metadata": {},
   "outputs": [
    {
     "name": "stdout",
     "output_type": "stream",
     "text": [
      "Khoor\n"
     ]
    }
   ],
   "source": [
    "import string\n",
    "key = 3\n",
    "P = 'Hello'; C=''\n",
    "for letter in P:\n",
    "   C = C+ (chr(ord(letter) + key))\n",
    "print(C)"
   ]
  },
  {
   "cell_type": "markdown",
   "id": "b25bda8a",
   "metadata": {},
   "source": [
    "### ROT13 Cipher"
   ]
  },
  {
   "cell_type": "code",
   "execution_count": 2,
   "id": "bc6dd5f1",
   "metadata": {},
   "outputs": [
    {
     "name": "stdout",
     "output_type": "stream",
     "text": [
      "Tbbq\n"
     ]
    }
   ],
   "source": [
    "import codecs\n",
    "P = 'Good'\n",
    "C=''\n",
    "C=codecs.encode(P, 'rot_13')\n",
    "print(C)"
   ]
  },
  {
   "cell_type": "code",
   "execution_count": 3,
   "id": "e36cc256",
   "metadata": {},
   "outputs": [
    {
     "data": {
      "text/plain": [
       "b'QWxnb3JpdGhtcyBhcmUgdG9wIHNlY3JldCE=\\n'"
      ]
     },
     "execution_count": 3,
     "metadata": {},
     "output_type": "execute_result"
    }
   ],
   "source": [
    "import codecs\n",
    "my_bytes = b\"Algorithms are top secret!\"\n",
    "codecs.encode(my_bytes, \"base64\")"
   ]
  },
  {
   "cell_type": "markdown",
   "id": "b03f117b",
   "metadata": {},
   "source": [
    "## Hashing"
   ]
  },
  {
   "cell_type": "markdown",
   "id": "2ee35c87",
   "metadata": {},
   "source": [
    "### MD5"
   ]
  },
  {
   "cell_type": "code",
   "execution_count": 4,
   "id": "45233f88",
   "metadata": {},
   "outputs": [
    {
     "data": {
      "text/plain": [
       "'$1$rFpZDhKz$fK0thzf9qFQL7sVlD3miH/'"
      ]
     },
     "execution_count": 4,
     "metadata": {},
     "output_type": "execute_result"
    }
   ],
   "source": [
    "from passlib.hash import md5_crypt\n",
    "myHash = md5_crypt.hash(\"myTopSecretPassword\")\n",
    "myHash"
   ]
  },
  {
   "cell_type": "code",
   "execution_count": 5,
   "id": "5bbf373a",
   "metadata": {},
   "outputs": [
    {
     "data": {
      "text/plain": [
       "True"
      ]
     },
     "execution_count": 5,
     "metadata": {},
     "output_type": "execute_result"
    }
   ],
   "source": [
    "md5_crypt.verify(\"myTopSecretPassword\", myHash)"
   ]
  },
  {
   "cell_type": "code",
   "execution_count": 6,
   "id": "0823d7be",
   "metadata": {},
   "outputs": [
    {
     "data": {
      "text/plain": [
       "False"
      ]
     },
     "execution_count": 6,
     "metadata": {},
     "output_type": "execute_result"
    }
   ],
   "source": [
    "md5_crypt.verify(\"myTopSecretPassword-1\", myHash)"
   ]
  },
  {
   "cell_type": "markdown",
   "id": "47ba67d3",
   "metadata": {},
   "source": [
    "### SHA"
   ]
  },
  {
   "cell_type": "code",
   "execution_count": 9,
   "id": "c3f1775a",
   "metadata": {},
   "outputs": [
    {
     "data": {
      "text/plain": [
       "'$6$qIo0foX5$a.RA/OyedLnLEnWovzqngCqhyy3EfqRtwacvWKsIoYSvYgRxCRetM3XSwrgMxwdPqZt4KfbXzCp6yNyxI5j6o/'"
      ]
     },
     "execution_count": 9,
     "metadata": {},
     "output_type": "execute_result"
    }
   ],
   "source": [
    "import hashlib\n",
    "from passlib.hash import sha512_crypt\n",
    "myHash =sha512_crypt.using(salt = \"qIo0foX5\",rounds=5000).hash(\"myPassword\")\n",
    "myHash"
   ]
  },
  {
   "cell_type": "markdown",
   "id": "a412d9ac",
   "metadata": {},
   "source": [
    "## Semmetic Encryption"
   ]
  },
  {
   "cell_type": "code",
   "execution_count": 11,
   "id": "dadcdfff",
   "metadata": {},
   "outputs": [],
   "source": [
    "import cryptography as crypt\n",
    "from cryptography.fernet import Fernet"
   ]
  },
  {
   "cell_type": "code",
   "execution_count": 12,
   "id": "ef42984b",
   "metadata": {},
   "outputs": [
    {
     "name": "stdout",
     "output_type": "stream",
     "text": [
      "b'AzEe2BlRWPBqgHqt1Z_WsdpJNfflw8iC1YgVWxKH4Ks='\n"
     ]
    }
   ],
   "source": [
    "key = Fernet.generate_key()\n",
    "print(key)"
   ]
  },
  {
   "cell_type": "code",
   "execution_count": 13,
   "id": "eddc5703",
   "metadata": {},
   "outputs": [],
   "source": [
    "file = open('mykey.key', 'wb')\n",
    "file.write(key) \n",
    "file.close()"
   ]
  },
  {
   "cell_type": "code",
   "execution_count": 14,
   "id": "aa43f249",
   "metadata": {},
   "outputs": [],
   "source": [
    "file = open('mykey.key', 'rb')\n",
    "key = file.read() \n",
    "file.close()"
   ]
  },
  {
   "cell_type": "code",
   "execution_count": 19,
   "id": "f3b34978",
   "metadata": {},
   "outputs": [],
   "source": [
    "from cryptography.fernet import Fernet\n",
    "message = \"Paris is really cool\".encode()\n",
    "\n",
    "f = Fernet(key)\n",
    "encrypted = f.encrypt(message)"
   ]
  },
  {
   "cell_type": "code",
   "execution_count": 20,
   "id": "772554aa",
   "metadata": {},
   "outputs": [],
   "source": [
    "decrypted = f.decrypt(encrypted)"
   ]
  },
  {
   "cell_type": "code",
   "execution_count": 21,
   "id": "b883f79c",
   "metadata": {},
   "outputs": [
    {
     "name": "stdout",
     "output_type": "stream",
     "text": [
      "b'gAAAAABkRnVLyZ_RfCSMPRpFCzISMfpIHy9IdCW3MjacMZVC6xlPhGC2sSzLnac3HL1RhUmySdqRmwe6rANZ--m3W9mSU4gE-tQGHuoVGV3lo9mRVih5efw='\n"
     ]
    }
   ],
   "source": [
    "print(encrypted)"
   ]
  },
  {
   "cell_type": "code",
   "execution_count": 22,
   "id": "8be4d778",
   "metadata": {},
   "outputs": [
    {
     "name": "stdout",
     "output_type": "stream",
     "text": [
      "b'Paris is really cool'\n"
     ]
    }
   ],
   "source": [
    "print(decrypted)"
   ]
  },
  {
   "cell_type": "code",
   "execution_count": null,
   "id": "edb9e7d6",
   "metadata": {},
   "outputs": [],
   "source": []
  }
 ],
 "metadata": {
  "kernelspec": {
   "display_name": "Python 3 (ipykernel)",
   "language": "python",
   "name": "python3"
  },
  "language_info": {
   "codemirror_mode": {
    "name": "ipython",
    "version": 3
   },
   "file_extension": ".py",
   "mimetype": "text/x-python",
   "name": "python",
   "nbconvert_exporter": "python",
   "pygments_lexer": "ipython3",
   "version": "3.10.10"
  }
 },
 "nbformat": 4,
 "nbformat_minor": 5
}
